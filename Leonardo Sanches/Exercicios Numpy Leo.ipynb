{
 "cells": [
  {
   "cell_type": "code",
   "execution_count": 3,
   "metadata": {},
   "outputs": [],
   "source": [
    "import numpy as np"
   ]
  },
  {
   "cell_type": "code",
   "execution_count": 16,
   "metadata": {},
   "outputs": [
    {
     "name": "stdout",
     "output_type": "stream",
     "text": [
      "[0. 0. 0. 0. 0. 0. 0. 0. 0. 0.]\n",
      "8\n"
     ]
    }
   ],
   "source": [
    "#Create matrix 10 indices com elementos 0\n",
    "\n",
    "#n_1 = numpy.empty(10) # Cria matrix com valores arbitrarios\n",
    "n_2 = numpy.zeros(10)\n",
    "print(n_2)\n",
    "print(n_2.itemsize) # Tamanho do elemento em bytes"
   ]
  },
  {
   "cell_type": "code",
   "execution_count": 17,
   "metadata": {},
   "outputs": [
    {
     "name": "stdout",
     "output_type": "stream",
     "text": [
      "[0. 0. 0. 0. 1. 0. 0. 0. 0. 0.]\n"
     ]
    }
   ],
   "source": [
    "#Add 1 na quinta posicao da matrix\n",
    "n_2[4] = 1\n",
    "print(n_2)"
   ]
  },
  {
   "cell_type": "code",
   "execution_count": 21,
   "metadata": {},
   "outputs": [
    {
     "name": "stdout",
     "output_type": "stream",
     "text": [
      "[10 11 12 13 14 15 16 17 18 19 20 21 22 23 24 25 26 27 28 29 30 31 32 33\n",
      " 34 35 36 37 38 39 40 41 42 43 44 45 46 47 48 49]\n"
     ]
    }
   ],
   "source": [
    "#Create a matrix with elements betwenn 10 and 49\n",
    "n_3 = np.arange(10,50)\n",
    "print(n_3)"
   ]
  },
  {
   "cell_type": "code",
   "execution_count": 24,
   "metadata": {},
   "outputs": [
    {
     "name": "stdout",
     "output_type": "stream",
     "text": [
      "[49 48 47 46 45 44 43 42 41 40 39 38 37 36 35 34 33 32 31 30 29 28 27 26\n",
      " 25 24 23 22 21 20 19 18 17 16 15 14 13 12 11 10]\n"
     ]
    }
   ],
   "source": [
    "#Inverter matrix\n",
    "n_4 = np.flip(n_3)\n",
    "print(n_4)\n",
    "#print(n_3[::-1])"
   ]
  },
  {
   "cell_type": "code",
   "execution_count": 31,
   "metadata": {},
   "outputs": [
    {
     "name": "stdout",
     "output_type": "stream",
     "text": [
      "[[0 1 2]\n",
      " [3 4 5]\n",
      " [6 7 8]]\n"
     ]
    }
   ],
   "source": [
    "#Criar matrix 3x3\n",
    "\n",
    "n_5 = np.arange(0,9).reshape(3,3)\n",
    "print(n_5)"
   ]
  },
  {
   "cell_type": "code",
   "execution_count": 33,
   "metadata": {},
   "outputs": [
    {
     "name": "stdout",
     "output_type": "stream",
     "text": [
      "[[1. 0. 0.]\n",
      " [0. 1. 0.]\n",
      " [0. 0. 1.]]\n"
     ]
    }
   ],
   "source": [
    "#Criar matrix identidade\n",
    "\n",
    "n_6 = np.identity(3)\n",
    "print(n_6)"
   ]
  },
  {
   "cell_type": "code",
   "execution_count": 39,
   "metadata": {},
   "outputs": [
    {
     "name": "stdout",
     "output_type": "stream",
     "text": [
      "[[[4.67092658e-310 2.31297541e-312 9.97338022e-313]\n",
      "  [2.14321575e-312 2.14321575e-312 2.37663529e-312]\n",
      "  [9.97338022e-313 2.35541533e-312 2.33419537e-312]]\n",
      "\n",
      " [[2.35541533e-312 2.12199579e-312 9.97338022e-313]\n",
      "  [2.35541533e-312 2.12199579e-312 9.97338022e-313]\n",
      "  [2.33419537e-312 2.44029516e-312 1.46417710e-312]]\n",
      "\n",
      " [[2.50395503e-312 9.97338022e-313 2.22809558e-312]\n",
      "  [9.97338022e-313 2.56761491e-312 2.20687562e-312]\n",
      "  [2.33419537e-312 0.00000000e+000 0.00000000e+000]]]\n"
     ]
    }
   ],
   "source": [
    "#Criar matrix 3x3x3\n",
    "\n",
    "n_7 = np.ndarray(shape=(3,3,3))\n",
    "print(n_7)"
   ]
  },
  {
   "cell_type": "code",
   "execution_count": 42,
   "metadata": {},
   "outputs": [
    {
     "name": "stdout",
     "output_type": "stream",
     "text": [
      "3.0\n",
      "[[3.00000000e+000 2.25293935e-321 0.00000000e+000 4.67092712e-310\n",
      "  4.94065646e-324 4.67092712e-310 4.94065646e-324 4.67092712e-310\n",
      "  4.67072494e-310 6.89963286e-310]\n",
      " [6.89945711e-310 6.89945711e-310 4.94065646e-324 1.38338381e-322\n",
      "  6.89965990e-310 6.89945711e-310 4.94065646e-324 1.27319747e-313\n",
      "  1.27319748e-313 4.67092712e-310]\n",
      " [6.89965969e-310 6.89945711e-310 1.27319747e-313 0.00000000e+000\n",
      "  0.00000000e+000 4.94065646e-324 4.67092712e-310 9.88131292e-324\n",
      "  4.67092712e-310 4.67092712e-310]\n",
      " [4.67072494e-310 4.67092524e-310 3.60739284e-313 9.88131292e-324\n",
      "  5.09278990e-313 4.67072494e-310 4.67092524e-310 4.67092524e-310\n",
      "  6.89963286e-310 5.72938864e-313]\n",
      " [5.09278990e-313 6.89963288e-310 4.67072494e-310 4.94065646e-323\n",
      "  5.09278990e-313 6.89966196e-310 4.67092712e-310 4.67072494e-310\n",
      "  4.67092712e-310 4.67092712e-310]\n",
      " [4.67092712e-310 1.27319747e-313 4.67072494e-310 4.67092712e-310\n",
      "  4.67092712e-310 4.67092712e-310 4.67092712e-310 1.27319747e-313\n",
      "  4.94065646e-324 4.67072494e-310]\n",
      " [4.67092712e-310 9.88131292e-324 6.89945711e-310 4.67092671e-310\n",
      "  4.94065646e-324 1.38338381e-322 6.89966197e-310 6.89945711e-310\n",
      "  4.94065646e-324 9.88131292e-324]\n",
      " [4.94065646e-324 4.67092712e-310 0.00000000e+000 0.00000000e+000\n",
      "  1.38338381e-322 6.89963286e-310 4.94065646e-324 1.42290906e-321\n",
      "  1.27319747e-313 6.89945711e-310]\n",
      " [4.67092712e-310 4.67092712e-310 4.67092712e-310 9.88131292e-324\n",
      "  6.89945711e-310 4.67092712e-310 6.89963286e-310 0.00000000e+000\n",
      "  0.00000000e+000 0.00000000e+000]\n",
      " [9.88131292e-324 4.94065646e-324 4.67092712e-310 0.00000000e+000\n",
      "  0.00000000e+000 0.00000000e+000 0.00000000e+000 0.00000000e+000\n",
      "  0.00000000e+000 0.00000000e+000]]\n"
     ]
    }
   ],
   "source": [
    "#Criar matrix 10x10 e encontrar o maior valor\n",
    "\n",
    "n_8 = np.ndarray(shape=(10,10))\n",
    "n_8[0][0] = 3\n",
    "print(numpy.amax(n_8))\n",
    "print(n_8)"
   ]
  },
  {
   "cell_type": "code",
   "execution_count": 45,
   "metadata": {},
   "outputs": [
    {
     "name": "stdout",
     "output_type": "stream",
     "text": [
      "0.47967187068221895\n",
      "[0.74614478 0.47457477 0.65608717 0.37799415 0.85572474 0.48476897\n",
      " 0.7565204  0.643827   0.29338413 0.35699495 0.72580923 0.71309016\n",
      " 0.68043103 0.23677323 0.68068838 0.08617935 0.30037631 0.44404967\n",
      " 0.42507907 0.87284627 0.06417462 0.72692252 0.47299943 0.52133145\n",
      " 0.64864287 0.47052165 0.73838657 0.27661292 0.09166945 0.12404233]\n"
     ]
    }
   ],
   "source": [
    "#30 elementos, encontre o valor medio\n",
    "\n",
    "\n",
    "n_9 = np.random.random(30)\n",
    "print(np.median(n_9))\n",
    "print(n_9)"
   ]
  },
  {
   "cell_type": "code",
   "execution_count": 47,
   "metadata": {},
   "outputs": [
    {
     "name": "stdout",
     "output_type": "stream",
     "text": [
      "[[1 1 1]\n",
      " [1 0 1]\n",
      " [1 1 1]]\n"
     ]
    }
   ],
   "source": [
    "n_10 = np.array([[1,1,1],[1,0,1],[1,1,1]])\n",
    "print(n_10)"
   ]
  },
  {
   "cell_type": "code",
   "execution_count": 71,
   "metadata": {},
   "outputs": [
    {
     "name": "stdin",
     "output_type": "stream",
     "text": [
      "coloque seu numero : 10\n"
     ]
    },
    {
     "name": "stdout",
     "output_type": "stream",
     "text": [
      "[[1. 1. 1. 1. 1. 1. 1. 1. 1. 1.]\n",
      " [1. 0. 0. 0. 0. 0. 0. 0. 0. 1.]\n",
      " [1. 0. 0. 0. 0. 0. 0. 0. 0. 1.]\n",
      " [1. 0. 0. 0. 0. 0. 0. 0. 0. 1.]\n",
      " [1. 0. 0. 0. 0. 0. 0. 0. 0. 1.]\n",
      " [1. 0. 0. 0. 0. 0. 0. 0. 0. 1.]\n",
      " [1. 0. 0. 0. 0. 0. 0. 0. 0. 1.]\n",
      " [1. 0. 0. 0. 0. 0. 0. 0. 0. 1.]\n",
      " [1. 0. 0. 0. 0. 0. 0. 0. 0. 1.]\n",
      " [1. 1. 1. 1. 1. 1. 1. 1. 1. 1.]]\n"
     ]
    }
   ],
   "source": [
    "\n",
    "#Criar matrix 2D onde as bordas sao valor 1 e o resto e 0\n",
    "\n",
    "n1 = int(input(\"coloque seu numero :\" ))\n",
    "n_11 = np.ndarray(shape=(n1,n1))\n",
    "for i in range(1, n1-1):\n",
    "    for j in range(1,n1-1):\n",
    "        if i == j:\n",
    "            n_11[i][j] = 0\n",
    "        else:\n",
    "            n_11[i][j] = 0\n",
    "    n_11[0] = 1\n",
    "    n_11[n1-1] = 1\n",
    "    n_11[i][0] = 1\n",
    "    n_11[i][n1-1] = 1\n",
    "    #for j in range(0,n1):\n",
    "        #if i>0:\n",
    "            ## n_11[i][j] = 0\n",
    "print(n_11)    "
   ]
  },
  {
   "cell_type": "code",
   "execution_count": 86,
   "metadata": {},
   "outputs": [
    {
     "name": "stdin",
     "output_type": "stream",
     "text": [
      "coloque seu numero: 10\n"
     ]
    },
    {
     "name": "stdout",
     "output_type": "stream",
     "text": [
      "[[1. 1. 1. 1. 1. 1. 1. 1. 1. 1.]\n",
      " [1. 0. 0. 0. 0. 0. 0. 0. 0. 1.]\n",
      " [1. 2. 0. 0. 0. 0. 0. 0. 0. 1.]\n",
      " [1. 0. 3. 0. 0. 0. 0. 0. 0. 1.]\n",
      " [1. 0. 0. 4. 0. 0. 0. 0. 0. 1.]\n",
      " [1. 0. 0. 0. 5. 0. 0. 0. 0. 1.]\n",
      " [1. 0. 0. 0. 0. 6. 0. 0. 0. 1.]\n",
      " [1. 0. 0. 0. 0. 0. 7. 0. 0. 1.]\n",
      " [1. 0. 0. 0. 0. 0. 0. 8. 0. 1.]\n",
      " [1. 1. 1. 1. 1. 1. 1. 1. 9. 1.]]\n"
     ]
    }
   ],
   "source": [
    "#Criar matrix 5x5 com valores 1,2,3,4 logo abaixo da diagonal\n",
    "\n",
    "n2 = int(input(\"coloque seu numero:\" ))\n",
    "n_12 = np.ndarray(shape=(n2,n2))\n",
    "for i in range(0,n2):\n",
    "    for j in range(0, n2):\n",
    "        if i==j and j>0:\n",
    "            n_12[i][j-1] = i\n",
    "        \n",
    "print(n_12)\n"
   ]
  },
  {
   "cell_type": "code",
   "execution_count": 91,
   "metadata": {},
   "outputs": [
    {
     "name": "stdin",
     "output_type": "stream",
     "text": [
      "Numero de Linhas:  3\n",
      "Numero de colunas:  3\n",
      "Numero de matrizes:  3\n"
     ]
    },
    {
     "name": "stdout",
     "output_type": "stream",
     "text": [
      "[[[4.67092658e-310 2.31297541e-312 9.97338022e-313]\n",
      "  [2.14321575e-312 2.14321575e-312 2.37663529e-312]\n",
      "  [9.97338022e-313 2.35541533e-312 2.33419537e-312]]\n",
      "\n",
      " [[2.35541533e-312 2.12199579e-312 9.97338022e-313]\n",
      "  [2.35541533e-312 2.12199579e-312 9.97338022e-313]\n",
      "  [2.33419537e-312 2.44029516e-312 1.46417710e-312]]\n",
      "\n",
      " [[2.50395503e-312 9.97338022e-313 2.22809558e-312]\n",
      "  [9.97338022e-313 2.56761491e-312 2.20687562e-312]\n",
      "  [2.33419537e-312 0.00000000e+000 0.00000000e+000]]]\n"
     ]
    }
   ],
   "source": [
    "#Matrix NxNxN\n",
    "\n",
    "n4 = int(input(\"Numero de Linhas: \"))\n",
    "n5 = int(input(\"Numero de colunas: \"))\n",
    "n3 = int(input(\"Numero de matrizes: \"))\n",
    "n_13 = np.ndarray(shape=(n3,n4,n5))\n",
    "print(n_13)"
   ]
  },
  {
   "cell_type": "code",
   "execution_count": 101,
   "metadata": {},
   "outputs": [
    {
     "name": "stdin",
     "output_type": "stream",
     "text": [
      "numero de linhas: 10\n",
      "numero de colunas: 10\n"
     ]
    },
    {
     "name": "stdout",
     "output_type": "stream",
     "text": [
      "1.0\n",
      "0.2\n",
      "0.4\n",
      "0.5\n",
      "0.6\n",
      "0.7\n",
      "0.8\n",
      "0.9\n",
      "1.0\n",
      "1.8\n",
      "[[1. 1. 1. 1. 1. 1. 1. 1. 1. 1.]\n",
      " [1. 0. 0. 0. 0. 0. 0. 0. 0. 1.]\n",
      " [1. 2. 0. 0. 0. 0. 0. 0. 0. 1.]\n",
      " [1. 0. 3. 0. 0. 0. 0. 0. 0. 1.]\n",
      " [1. 0. 0. 4. 0. 0. 0. 0. 0. 1.]\n",
      " [1. 0. 0. 0. 5. 0. 0. 0. 0. 1.]\n",
      " [1. 0. 0. 0. 0. 6. 0. 0. 0. 1.]\n",
      " [1. 0. 0. 0. 0. 0. 7. 0. 0. 1.]\n",
      " [1. 0. 0. 0. 0. 0. 0. 8. 0. 1.]\n",
      " [1. 1. 1. 1. 1. 1. 1. 1. 9. 1.]]\n"
     ]
    }
   ],
   "source": [
    "#Somar linha \n",
    "n6 = int(input(\"numero de linhas:\" ))\n",
    "n7 = int(input(\"numero de colunas:\"))\n",
    "n_14 = np.ndarray(shape=(n6,n7))\n",
    "for i in range(0,n6):\n",
    "    n_15 = np.sum(n_14[i])/n6\n",
    "    print(n_15)\n",
    "print(n_14)"
   ]
  },
  {
   "cell_type": "code",
   "execution_count": 124,
   "metadata": {},
   "outputs": [
    {
     "name": "stdout",
     "output_type": "stream",
     "text": [
      "{1: 2, 2: 1, 3: 2, 4: 2, 5: 1, 6: 2}\n"
     ]
    }
   ],
   "source": [
    "#Valores comuns em uma matrix\n",
    "n_16 = np.array([1,1,2,3,3,4,4,5,6,6])\n",
    "\n",
    "contador={}\n",
    "for i in n_16:\n",
    "    if i not in contador:\n",
    "        contador[i] = 1\n",
    "    else:\n",
    "        contador[i] += 1\n",
    "\n",
    "print(contador)"
   ]
  },
  {
   "cell_type": "code",
   "execution_count": 15,
   "metadata": {},
   "outputs": [
    {
     "name": "stdin",
     "output_type": "stream",
     "text": [
      "numero de linhas:  3\n",
      "numero de colunas:  3\n"
     ]
    },
    {
     "name": "stdout",
     "output_type": "stream",
     "text": [
      "Matrix gerada:  [[0.61773098 0.35128796 0.13966167]\n",
      " [0.40108015 0.90490009 0.24691505]\n",
      " [0.28885378 0.65931166 0.2860316 ]]\n",
      "media do eixo 0 [0.4358883  0.63849991 0.22420277]\n",
      "media do eixo 1 [0.3695602  0.51763176 0.41139901]\n"
     ]
    }
   ],
   "source": [
    "#Media das linhas\n",
    "\n",
    "\n",
    "a = int(input(\"numero de linhas: \"))\n",
    "b = int(input('numero de colunas: '))\n",
    "n_17 = np.random.rand(a,b)\n",
    "print('Matrix gerada: ',n_17)\n",
    "for i in range(0, a-1):\n",
    "    print('media do eixo', i,np.mean(n_17, axis = i))"
   ]
  },
  {
   "cell_type": "code",
   "execution_count": 20,
   "metadata": {},
   "outputs": [
    {
     "name": "stdin",
     "output_type": "stream",
     "text": [
      "numero de linhas:  100\n",
      "numero de colunas:  100\n"
     ]
    },
    {
     "name": "stdout",
     "output_type": "stream",
     "text": [
      "[[4.03327413e-05 1.54410339e-04 4.75281449e-04 ... 9.99674548e-01\n",
      "  9.99679974e-01 9.99697085e-01]\n",
      " [1.00000000e+00 1.00000000e+00 1.00000000e+00 ... 1.00000000e+00\n",
      "  1.00000000e+00 1.00000000e+00]]\n"
     ]
    }
   ],
   "source": [
    "#Valor mais frequente 2.0\n",
    "a = int(input(\"numero de linhas: \"))\n",
    "b = int(input('numero de colunas: '))\n",
    "n_18 = np.random.rand(a,b)\n",
    "n_19_1, n_19 = np.unique(n_18, return_counts=True)\n",
    "print(np.asarray((n_19_1,n_19)))"
   ]
  },
  {
   "cell_type": "markdown",
   "metadata": {},
   "source": []
  }
 ],
 "metadata": {
  "kernelspec": {
   "display_name": "Python 3",
   "language": "python",
   "name": "python3"
  },
  "language_info": {
   "codemirror_mode": {
    "name": "ipython",
    "version": 3
   },
   "file_extension": ".py",
   "mimetype": "text/x-python",
   "name": "python",
   "nbconvert_exporter": "python",
   "pygments_lexer": "ipython3",
   "version": "3.7.1"
  }
 },
 "nbformat": 4,
 "nbformat_minor": 2
}
