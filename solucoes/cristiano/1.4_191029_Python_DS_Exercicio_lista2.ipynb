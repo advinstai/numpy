{
 "cells": [
  {
   "cell_type": "code",
   "execution_count": 4,
   "metadata": {},
   "outputs": [],
   "source": [
    "##EXERCÍCIOS\n",
    "\n",
    "import numpy as np"
   ]
  },
  {
   "cell_type": "markdown",
   "metadata": {},
   "source": [
    "### 1 Crie um vetor nulo de tamanho 10"
   ]
  },
  {
   "cell_type": "code",
   "execution_count": 20,
   "metadata": {},
   "outputs": [
    {
     "name": "stdout",
     "output_type": "stream",
     "text": [
      "[0 0 0 0 0 0 0 0 0 0]\n",
      "[0 0 0 0 0 0 0 0 0 0]\n",
      "[0 0 0 0 0 0 0 0 0 0]\n"
     ]
    }
   ],
   "source": [
    "vetor1=np.zeros((10),dtype=np.int16)\n",
    "print(vetor1)\n",
    "\n",
    "vetor2=np.zeros((5, 5),dtype=np.int16)\n",
    "print(vetor1)\n",
    "\n",
    "vetor3=np.zeros((3,3,3),dtype=np.int16)\n",
    "print(vetor1)"
   ]
  },
  {
   "cell_type": "markdown",
   "metadata": {},
   "source": [
    "### 2 Como encontrar o tamanho da memória de qualquer matriz"
   ]
  },
  {
   "cell_type": "code",
   "execution_count": 21,
   "metadata": {},
   "outputs": [
    {
     "name": "stdout",
     "output_type": "stream",
     "text": [
      "20\n",
      "50\n",
      "54\n"
     ]
    }
   ],
   "source": [
    "print(vetor1.nbytes)\n",
    "print(vetor2.nbytes)\n",
    "print(vetor3.nbytes)"
   ]
  },
  {
   "cell_type": "markdown",
   "metadata": {},
   "source": [
    "### 3 Crie um vetor nulo de tamanho 10, mas o quinto valor, que é 1"
   ]
  },
  {
   "cell_type": "code",
   "execution_count": 24,
   "metadata": {},
   "outputs": [
    {
     "name": "stdout",
     "output_type": "stream",
     "text": [
      "[0 0 0 0 1 0 0 0 0 0]\n"
     ]
    }
   ],
   "source": [
    "vetor4=np.zeros((10),dtype=np.int16)\n",
    "vetor4[4] = 1\n",
    "print(vetor4)"
   ]
  },
  {
   "cell_type": "markdown",
   "metadata": {},
   "source": [
    "### 4 Crie um vetor com valores que variam de 10 a 49"
   ]
  },
  {
   "cell_type": "code",
   "execution_count": 29,
   "metadata": {},
   "outputs": [
    {
     "name": "stdout",
     "output_type": "stream",
     "text": [
      "[10 11 12 13 14 15 16 17 18 19 20 21 22 23 24 25 26 27 28 29 30 31 32 33\n",
      " 34 35 36 37 38 39 40 41 42 43 44 45 46 47 48 49]\n"
     ]
    }
   ],
   "source": [
    "vetor5 = np.arange(10,50)\n",
    "print(vetor5)"
   ]
  },
  {
   "cell_type": "markdown",
   "metadata": {},
   "source": [
    "### 5 Inverter um vetor (o primeiro elemento se torna o último)"
   ]
  },
  {
   "cell_type": "code",
   "execution_count": 31,
   "metadata": {},
   "outputs": [
    {
     "name": "stdout",
     "output_type": "stream",
     "text": [
      "[49 48 47 46 45 44 43 42 41 40 39 38 37 36 35 34 33 32 31 30 29 28 27 26\n",
      " 25 24 23 22 21 20 19 18 17 16 15 14 13 12 11 10]\n"
     ]
    }
   ],
   "source": [
    "vetor6 = vetor5[::-1]\n",
    "print(vetor6)"
   ]
  },
  {
   "cell_type": "markdown",
   "metadata": {},
   "source": [
    "### 6 Crie uma matriz 3x3 com valores que variam de 0 a 8"
   ]
  },
  {
   "cell_type": "code",
   "execution_count": 33,
   "metadata": {},
   "outputs": [
    {
     "name": "stdout",
     "output_type": "stream",
     "text": [
      "[[1 4 7]\n",
      " [7 3 3]\n",
      " [1 6 0]]\n"
     ]
    }
   ],
   "source": [
    "lista7 = np.random.randint(8, size=(3,3))\n",
    "print(lista7)"
   ]
  },
  {
   "cell_type": "markdown",
   "metadata": {},
   "source": [
    "### 7 Crie uma matriz de identidade 3x3"
   ]
  },
  {
   "cell_type": "code",
   "execution_count": 36,
   "metadata": {},
   "outputs": [
    {
     "name": "stdout",
     "output_type": "stream",
     "text": [
      "[[1. 0. 0.]\n",
      " [0. 1. 0.]\n",
      " [0. 0. 1.]]\n"
     ]
    }
   ],
   "source": [
    "lista8 = np.identity(3)\n",
    "print(lista8)"
   ]
  },
  {
   "cell_type": "markdown",
   "metadata": {},
   "source": [
    "### 8 Crie uma matriz 3x3x3 com valores aleatórios"
   ]
  },
  {
   "cell_type": "code",
   "execution_count": 41,
   "metadata": {},
   "outputs": [
    {
     "name": "stdout",
     "output_type": "stream",
     "text": [
      "[[[0.70273455 0.64584874 0.66267264]\n",
      "  [0.96796168 0.30342141 0.96038201]\n",
      "  [0.27704387 0.16441852 0.17979537]]\n",
      "\n",
      " [[0.56298631 0.67268006 0.6823895 ]\n",
      "  [0.8721268  0.0765502  0.41816006]\n",
      "  [0.7581039  0.97054306 0.3943028 ]]\n",
      "\n",
      " [[0.14597828 0.31764123 0.36050647]\n",
      "  [0.43508578 0.85308828 0.60732567]\n",
      "  [0.58487779 0.12895049 0.01774388]]]\n"
     ]
    }
   ],
   "source": [
    "lista9 = np.random.random(size=(3,3,3))\n",
    "print(lista9)"
   ]
  },
  {
   "cell_type": "markdown",
   "metadata": {},
   "source": [
    "### 9 Crie uma matriz 10x10 com valores aleatórios e encontre os valores mínimo e máximo"
   ]
  },
  {
   "cell_type": "code",
   "execution_count": 48,
   "metadata": {},
   "outputs": [
    {
     "name": "stdout",
     "output_type": "stream",
     "text": [
      "[[0.10971942 0.39113075 0.38702799 0.21631244 0.82451723 0.74169788\n",
      "  0.35082711 0.87740688 0.71926257 0.30453132]\n",
      " [0.68012993 0.88802211 0.17413279 0.04953701 0.94912272 0.34405998\n",
      "  0.02157607 0.66435582 0.54487406 0.29851948]\n",
      " [0.75066708 0.66951904 0.69899341 0.72897456 0.84048723 0.51354328\n",
      "  0.33451284 0.36674643 0.39733588 0.09865355]\n",
      " [0.66798173 0.97697909 0.98561926 0.48767355 0.47743731 0.7817158\n",
      "  0.76236815 0.63611935 0.43520416 0.82283964]\n",
      " [0.98869033 0.82687606 0.27124252 0.82925405 0.29343412 0.97407367\n",
      "  0.13074663 0.50976352 0.68605332 0.79319607]\n",
      " [0.29802264 0.73641927 0.09693041 0.30207116 0.75181291 0.97236839\n",
      "  0.11517907 0.91982219 0.40293446 0.63112977]\n",
      " [0.84466677 0.57313948 0.53717582 0.8519825  0.92412432 0.64624183\n",
      "  0.43746809 0.06205905 0.48950616 0.71346269]\n",
      " [0.07887134 0.24233612 0.37360368 0.051744   0.70924708 0.88000586\n",
      "  0.67136415 0.7895819  0.30650371 0.65886841]\n",
      " [0.0887174  0.64749124 0.11920502 0.00193332 0.65681172 0.87150609\n",
      "  0.6197832  0.29553244 0.69930194 0.27930853]\n",
      " [0.62017985 0.03248448 0.0066674  0.49385543 0.73862239 0.86195154\n",
      "  0.64096356 0.83135955 0.88165056 0.24956955]]\n",
      "\n",
      " Máximo da lista: 0.9886903314891397\n"
     ]
    }
   ],
   "source": [
    "lista10 = np.random.random(size=(10,10))\n",
    "print(lista10)\n",
    "\n",
    "lista101 = np.amax(lista10)\n",
    "print(\"\\n Máximo da lista:\", lista101)"
   ]
  },
  {
   "cell_type": "markdown",
   "metadata": {},
   "source": [
    "### 10 Crie um vetor aleatório de tamanho 30 e encontre o valor médio"
   ]
  },
  {
   "cell_type": "code",
   "execution_count": 57,
   "metadata": {},
   "outputs": [
    {
     "name": "stdout",
     "output_type": "stream",
     "text": [
      "[18 79 11 82 40 32 28 70 32 98 24 90 44 30 34 91 50 43 19 24  7  1 54  2\n",
      " 84  9 99 12 72 53]\n",
      "A média é: 44.40\n"
     ]
    }
   ],
   "source": [
    "vetor11 = np.random.randint(100, size=30)\n",
    "print(vetor11)\n",
    "vetor111 = np.average(vetor11)\n",
    "print(\"A média é: %.2f\" % vetor111)"
   ]
  },
  {
   "cell_type": "markdown",
   "metadata": {},
   "source": [
    "### 11 Crie uma matriz 2D com 1 na borda e 0 dentro"
   ]
  },
  {
   "cell_type": "code",
   "execution_count": 63,
   "metadata": {},
   "outputs": [
    {
     "name": "stdout",
     "output_type": "stream",
     "text": [
      "[[1 1 1]\n",
      " [1 0 1]\n",
      " [1 1 1]]\n"
     ]
    }
   ],
   "source": [
    "vetor12=np.ones((3,3),dtype=np.int16)\n",
    "vetor12[1,1] = 0\n",
    "print(vetor12)"
   ]
  },
  {
   "cell_type": "code",
   "execution_count": 76,
   "metadata": {},
   "outputs": [
    {
     "name": "stdout",
     "output_type": "stream",
     "text": [
      "[[0. 0. 0. 0. 0.]\n",
      " [0. 0. 0. 0. 0.]\n",
      " [0. 0. 0. 0. 0.]\n",
      " [0. 0. 0. 0. 0.]\n",
      " [0. 0. 0. 0. 0.]]\n",
      "[[1. 1. 1. 1. 1.]\n",
      " [1. 0. 0. 0. 1.]\n",
      " [1. 0. 0. 0. 1.]\n",
      " [1. 0. 0. 0. 1.]\n",
      " [1. 1. 1. 1. 1.]]\n"
     ]
    }
   ],
   "source": [
    "matriz2d = np.zeros((5,5))\n",
    "print(matriz2d)\n",
    "\n",
    "matriz2d[0] = 1\n",
    "matriz2d[:,0] = 1\n",
    "matriz2d[-1,:] = 1\n",
    "matriz2d[:,-1] = 1\n",
    "print(matriz2d)"
   ]
  },
  {
   "cell_type": "markdown",
   "metadata": {},
   "source": [
    "### 12 Crie uma matriz 5x5 com valores 1,2,3,4 logo abaixo da diagonal"
   ]
  },
  {
   "cell_type": "code",
   "execution_count": 227,
   "metadata": {},
   "outputs": [
    {
     "name": "stdout",
     "output_type": "stream",
     "text": [
      "[[0 0 0 0 0 0]\n",
      " [1 0 0 0 0 0]\n",
      " [0 2 0 0 0 0]\n",
      " [0 0 3 0 0 0]\n",
      " [0 0 0 4 0 0]\n",
      " [0 0 0 0 5 0]]\n"
     ]
    }
   ],
   "source": [
    "n = 6\n",
    "\n",
    "lista131 = np.arange(1,n+1)\n",
    "lista132 = np.zeros((n, n), int)\n",
    "lista132 = np.diag(lista131)\n",
    "\n",
    "lista133 = np.zeros((1, n), int)\n",
    "\n",
    "lista134 = np.append(lista133, lista132, axis=0)\n",
    "\n",
    "lista135 = np.delete(lista134, n, axis=0)\n",
    "print(lista135)"
   ]
  },
  {
   "cell_type": "code",
   "execution_count": 235,
   "metadata": {},
   "outputs": [
    {
     "name": "stdout",
     "output_type": "stream",
     "text": [
      "[[0 0 0 0 0 0 0]\n",
      " [1 0 0 0 0 0 0]\n",
      " [0 2 0 0 0 0 0]\n",
      " [0 0 3 0 0 0 0]\n",
      " [0 0 0 4 0 0 0]\n",
      " [0 0 0 0 5 0 0]\n",
      " [0 0 0 0 0 6 0]]\n"
     ]
    }
   ],
   "source": [
    "n = 7\n",
    "\n",
    "lista132 = np.zeros((n, n), int)\n",
    "lista132 = np.diag(np.arange(1,n+1))\n",
    "\n",
    "print(np.delete(np.append(np.zeros((1, n), int), lista132, axis=0), n, axis=0))\n"
   ]
  },
  {
   "cell_type": "markdown",
   "metadata": {},
   "source": [
    "### 13 Crie uma matriz estruturada representando uma posição (x, y) e uma cor (r, g, b)"
   ]
  },
  {
   "cell_type": "code",
   "execution_count": 30,
   "metadata": {
    "scrolled": false
   },
   "outputs": [
    {
     "name": "stdout",
     "output_type": "stream",
     "text": [
      "[((0., 0.), (0., 0., 0.)) ((0., 0.), (0., 0., 0.))\n",
      " ((0., 0.), (0., 0., 0.)) ((0., 0.), (0., 0., 0.))\n",
      " ((0., 0.), (0., 0., 0.)) ((0., 0.), (0., 0., 0.))\n",
      " ((0., 0.), (0., 0., 0.)) ((0., 0.), (0., 0., 0.))\n",
      " ((0., 0.), (0., 0., 0.)) ((0., 0.), (0., 0., 0.))]\n"
     ]
    },
    {
     "name": "stderr",
     "output_type": "stream",
     "text": [
      "/home/cv/miniconda3/envs/ambiente1/lib/python3.7/site-packages/ipykernel_launcher.py:3: FutureWarning: Passing (type, 1) or '1type' as a synonym of type is deprecated; in a future version of numpy, it will be understood as (type, (1,)) / '(1,)type'.\n",
      "  This is separate from the ipykernel package so we can avoid doing imports until\n"
     ]
    }
   ],
   "source": [
    "matriz13 = np.zeros(10,\n",
    "[('position', [ ('x', float, 1),('y', float, 1)]),\n",
    " ('color',    [ ('r', float, 1), ('g', float, 1), ('b', float, 1)])])\n",
    "\n",
    "print(matriz13)"
   ]
  },
  {
   "cell_type": "markdown",
   "metadata": {},
   "source": [
    "### 14 Subtrair a média de cada linha de uma matriz"
   ]
  },
  {
   "cell_type": "code",
   "execution_count": 255,
   "metadata": {},
   "outputs": [
    {
     "name": "stdout",
     "output_type": "stream",
     "text": [
      "A média do vetor 0 é igual a 0.57\n",
      "A média do vetor 1 é igual a 0.45\n",
      "A média do vetor 2 é igual a 0.35\n",
      "A média do vetor 3 é igual a 0.36\n",
      "A média do vetor 4 é igual a 0.41\n",
      "A média do vetor 5 é igual a 0.62\n",
      "A média do vetor 6 é igual a 0.54\n",
      "A média do vetor 7 é igual a 0.45\n",
      "A média do vetor 8 é igual a 0.58\n",
      "A média do vetor 9 é igual a 0.43\n"
     ]
    }
   ],
   "source": [
    "lista141 = np.random.random(size=(10,10))\n",
    "\n",
    "for i, array in enumerate(lista141):\n",
    "    media = np.average(array)\n",
    "    print(\"A média do vetor %d é igual a %.2f\" % (i,media))"
   ]
  },
  {
   "cell_type": "markdown",
   "metadata": {},
   "source": [
    "### 15 Como encontrar o valor mais frequente em uma matriz?"
   ]
  },
  {
   "cell_type": "code",
   "execution_count": 269,
   "metadata": {},
   "outputs": [
    {
     "name": "stdout",
     "output_type": "stream",
     "text": [
      "ModeResult(mode=array([0]), count=array([4]))\n"
     ]
    }
   ],
   "source": [
    "import numpy as np\n",
    "from scipy import stats\n",
    "\n",
    "lista150 = np.array([[[ 0,  1,  2,  3,  4],\n",
    "                  [ 5,  6,  7,  8,  9],\n",
    "                  [10, 11, 12, 13, 14],\n",
    "                  [15, 16, 17, 18, 19]],\n",
    "\n",
    "                 [[ 0,  1,  2,  3,  4],\n",
    "                  [ 5,  6,  0,  8,  9],\n",
    "                  [10, 11, 12, 13, 14],\n",
    "                  [15, 16, 17, 18, 19]],\n",
    "\n",
    "                 [[40, 40, 42, 43, 44],\n",
    "                  [45, 46, 0, 48, 49],\n",
    "                  [50, 51, 52, 53, 54],\n",
    "                  [55, 56, 57, 58, 59]]])\n",
    "\n",
    "lista151 = stats.mode(lista150, axis=None)\n",
    "print(lista151)"
   ]
  },
  {
   "cell_type": "markdown",
   "metadata": {},
   "source": [
    "### 16 Crie uma matriz a partir de um arquivo"
   ]
  },
  {
   "cell_type": "code",
   "execution_count": 11,
   "metadata": {},
   "outputs": [
    {
     "name": "stdout",
     "output_type": "stream",
     "text": [
      "[[4 3 2 2 3 0 4 4 0 2]\n",
      " [1 1 2 1 1 3 0 0 1 3]\n",
      " [0 2 3 3 1 0 3 3 0 2]\n",
      " [4 0 4 1 2 1 4 2 2 2]\n",
      " [3 1 1 0 4 4 2 3 2 1]\n",
      " [1 4 3 4 3 3 1 1 4 1]\n",
      " [2 1 0 0 1 3 3 3 1 3]\n",
      " [1 2 1 1 4 0 0 4 1 1]\n",
      " [4 0 2 2 4 0 0 1 0 0]\n",
      " [4 0 4 4 3 0 1 4 2 1]]\n"
     ]
    }
   ],
   "source": [
    "matriz16 = np.loadtxt(\"./matriz17.txt\", dtype=np.int16)\n",
    "print(matriz16)"
   ]
  },
  {
   "cell_type": "markdown",
   "metadata": {},
   "source": [
    "# 17 Crie uma matriz com valores aleatórios e salve para um arquivo"
   ]
  },
  {
   "cell_type": "code",
   "execution_count": 12,
   "metadata": {},
   "outputs": [
    {
     "name": "stdout",
     "output_type": "stream",
     "text": [
      "[[2 4 2 0 3 4 4 4 3 3]\n",
      " [2 3 1 1 2 1 0 0 4 3]\n",
      " [3 0 3 0 4 0 2 0 2 2]\n",
      " [0 3 3 3 2 4 3 0 2 2]\n",
      " [1 0 2 4 3 1 4 3 2 2]\n",
      " [1 4 1 0 4 2 3 3 4 4]\n",
      " [3 2 2 4 3 4 2 2 2 2]\n",
      " [3 2 1 2 3 3 4 4 3 2]\n",
      " [0 4 3 3 0 2 4 2 3 0]\n",
      " [0 0 3 1 3 0 3 1 1 2]]\n"
     ]
    }
   ],
   "source": [
    "matriz17 = np.random.randint(5, size=(10, 10))\n",
    "print(matriz17)\n",
    "\n",
    "np.savetxt(\"./matriz17.txt\", matriz17)"
   ]
  },
  {
   "cell_type": "code",
   "execution_count": null,
   "metadata": {},
   "outputs": [],
   "source": []
  }
 ],
 "metadata": {
  "kernelspec": {
   "display_name": "Python [conda env:ambiente1] *",
   "language": "python",
   "name": "conda-env-ambiente1-py"
  },
  "language_info": {
   "codemirror_mode": {
    "name": "ipython",
    "version": 3
   },
   "file_extension": ".py",
   "mimetype": "text/x-python",
   "name": "python",
   "nbconvert_exporter": "python",
   "pygments_lexer": "ipython3",
   "version": "3.7.3"
  }
 },
 "nbformat": 4,
 "nbformat_minor": 2
}
