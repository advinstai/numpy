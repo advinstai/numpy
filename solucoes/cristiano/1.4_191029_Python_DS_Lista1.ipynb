{
 "cells": [
  {
   "cell_type": "markdown",
   "metadata": {},
   "source": [
    "### EXERCICIOS DA AULA\n",
    "\n",
    "- Crie um array com 10 elementos usando a função arange\n",
    "- Transforme esse array de 1D (1x10) para 2D (2x5) usando a função reshape\n",
    "- Crie duas matrizes bidimensionais com valores aleatórios\n",
    "- Calcule a transposta de cada matriz\n",
    "- Multiplique as duas matrizes\n",
    "- Salve as matrizes de entrada e a de saída em arquivos. Qual o tamanho dos arquivos gerados?\n",
    "- Crie duas bidimensionais matrizes com valores aleatórios e gere uma única matriz combinando linha a linha"
   ]
  },
  {
   "cell_type": "code",
   "execution_count": 2,
   "metadata": {},
   "outputs": [
    {
     "name": "stdout",
     "output_type": "stream",
     "text": [
      "Ex 1:  [0 1 2 3 4 5 6 7 8]\n",
      "\n",
      "Ex 2:\n",
      " [[0 1 2]\n",
      " [3 4 5]\n",
      " [6 7 8]]\n",
      "\n",
      "Ex 3: \n",
      " [[0.32659215 0.8486322  0.23076547]\n",
      " [0.95516579 0.20622506 0.24674834]]\n",
      "[[0 1 1]\n",
      " [0 4 4]]\n",
      "\n",
      "Ex 4: Transposta 1\n",
      " [[0.32659215 0.95516579]\n",
      " [0.8486322  0.20622506]\n",
      " [0.23076547 0.24674834]]\n",
      "\n",
      "Ex 4: Transposta 2\n",
      " [[0 0]\n",
      " [1 4]\n",
      " [1 4]]\n",
      "\n",
      "Ex 5: Multiplicacao\n",
      " [[0.         0.8486322  0.23076547]\n",
      " [0.         0.82490022 0.98699337]]\n",
      "\n",
      "Quantidade de bytes da lista:\n",
      " 48\n",
      "\n",
      "Ex 6:\n",
      "lista 5: \n",
      " [[8 9 7]\n",
      " [4 3 1]\n",
      " [9 4 8]]\n",
      "lista 6: \n",
      " [[7 4 9]\n",
      " [6 1 1]\n",
      " [0 9 2]]\n",
      "lista 5 com somatório das linhas: [24  8 21]\n",
      "lista 6 com somatório das linhas: [20  8 11]\n",
      "\n",
      "lista 7 somando a lista51 e lista61: [44 16 32]\n"
     ]
    }
   ],
   "source": [
    "import numpy as np\n",
    "\n",
    "lista1 = np.arange(9)\n",
    "print(\"Ex 1: \", lista1)\n",
    "\n",
    "nova_lista1 = np.reshape(lista1, (3,3))\n",
    "print(\"\\nEx 2:\\n\", nova_lista1)\n",
    "\n",
    "lista1_random = np.random.random((2,3))\n",
    "print(\"\\nEx 3: \\n\", lista1_random)\n",
    "\n",
    "lista2_random = np.random.randint(5, size=(2, 3))\n",
    "print(lista2_random)\n",
    "\n",
    "print(\"\\nEx 4: Transposta 1\\n\", np.transpose(lista1_random))\n",
    "print(\"\\nEx 4: Transposta 2\\n\", np.transpose(lista2_random))\n",
    "\n",
    "mult_lista = np.multiply(lista1_random, lista2_random)\n",
    "print(\"\\nEx 5: Multiplicacao\\n\", mult_lista)\n",
    "\n",
    "np.savetxt(\"/home/cv/lista1_random.txt\", lista1_random)\n",
    "np.savetxt(\"/home/cv/lista2_random.txt\", lista2_random)\n",
    "\n",
    "print(\"\\nQuantidade de bytes da lista:\\n\", mult_lista.nbytes)\n",
    "\n",
    "#PARA A SOLUÇÃO DO EXERCICIO 6, OPTEI POR SOMAR POR LINHA CADA MATRIZ E DEPOIS FAZER UMA COMBINADA DAS DUAS\n",
    "\n",
    "print(\"\\nEx 6:\")\n",
    "lista5 = np.random.randint(10, size=(3,3))\n",
    "lista6 = np.random.randint(10, size=(3,3))\n",
    "print(\"lista 5: \\n\", lista5)\n",
    "print(\"lista 6: \\n\", lista6)\n",
    "\n",
    "lista51 = np.sum(lista5,axis=1)\n",
    "lista61 = np.sum(lista6,axis=1)\n",
    "print(\"lista 5 com somatório das linhas:\", lista51)\n",
    "print(\"lista 6 com somatório das linhas:\", lista61)\n",
    "\n",
    "lista7 = np.add(lista51, lista61)\n",
    "print(\"\\nlista 7 somando a lista51 e lista61:\", lista7)"
   ]
  },
  {
   "cell_type": "code",
   "execution_count": null,
   "metadata": {},
   "outputs": [],
   "source": []
  }
 ],
 "metadata": {
  "kernelspec": {
   "display_name": "Python [conda env:ambiente1] *",
   "language": "python",
   "name": "conda-env-ambiente1-py"
  },
  "language_info": {
   "codemirror_mode": {
    "name": "ipython",
    "version": 3
   },
   "file_extension": ".py",
   "mimetype": "text/x-python",
   "name": "python",
   "nbconvert_exporter": "python",
   "pygments_lexer": "ipython3",
   "version": "3.7.3"
  }
 },
 "nbformat": 4,
 "nbformat_minor": 2
}
