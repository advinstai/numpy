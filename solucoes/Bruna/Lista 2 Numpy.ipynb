{
 "cells": [
  {
   "cell_type": "markdown",
   "metadata": {},
   "source": [
    "## Lista Numpy"
   ]
  },
  {
   "cell_type": "markdown",
   "metadata": {},
   "source": [
    "* Crie um vetor nulo de tamanho 10"
   ]
  },
  {
   "cell_type": "code",
   "execution_count": null,
   "metadata": {},
   "outputs": [],
   "source": [
    "import numpy as np\n",
    "\n",
    "print(np.zeros(10))"
   ]
  },
  {
   "cell_type": "markdown",
   "metadata": {},
   "source": [
    "* Como encontrar o tamanho da memória de qualquer matriz"
   ]
  },
  {
   "cell_type": "markdown",
   "metadata": {},
   "source": [
    "Matrix_exemplo = np.matrix(np.arange(25).reshape(5,5))\n",
    "print(\"Pelo comando 'nomedamatriz.itemsize' podemos determinar o tamanho em bytes, como o exemplo: \\n \\n\", Matrix_exemplo, \"\\n \\n o qual seu tamanho em bytes eh:\", Matrix_exemplo.itemsize,\"bytes.\")\n"
   ]
  },
  {
   "cell_type": "markdown",
   "metadata": {},
   "source": [
    "* Crie um vetor nulo de tamanho 10, mas o quinto valor, que é 1"
   ]
  },
  {
   "cell_type": "code",
   "execution_count": null,
   "metadata": {},
   "outputs": [],
   "source": [
    "vetor = np.zeros(10)\n",
    "vetor[4] = 1 \n",
    "print(vetor)"
   ]
  },
  {
   "cell_type": "markdown",
   "metadata": {},
   "source": [
    "* Crie um vetor com valores que variam de 10 a 49"
   ]
  },
  {
   "cell_type": "code",
   "execution_count": null,
   "metadata": {},
   "outputs": [],
   "source": [
    "Matrix_exemplo = np.arange(10,50)\n",
    "print(Matrix_exemplo)"
   ]
  },
  {
   "cell_type": "markdown",
   "metadata": {},
   "source": [
    "* Inverter um vetor (o primeiro elemento se torna o último)"
   ]
  },
  {
   "cell_type": "code",
   "execution_count": null,
   "metadata": {},
   "outputs": [],
   "source": [
    "matrix_exemplo = np.arange(10,50)\n",
    "print(matrix_exemplo)\n",
    "\n"
   ]
  },
  {
   "cell_type": "markdown",
   "metadata": {},
   "source": [
    "* Inverter um vetor (o primeiro elemento se torna o último)"
   ]
  },
  {
   "cell_type": "code",
   "execution_count": null,
   "metadata": {},
   "outputs": [],
   "source": []
  },
  {
   "cell_type": "markdown",
   "metadata": {},
   "source": [
    "* Crie uma matriz 3x3 com valores que variam de 0 a 8"
   ]
  },
  {
   "cell_type": "code",
   "execution_count": null,
   "metadata": {},
   "outputs": [],
   "source": [
    "print(np.arange(0,9).reshape(3,3))"
   ]
  },
  {
   "cell_type": "markdown",
   "metadata": {},
   "source": [
    "* Crie uma matriz de identidade 3x3"
   ]
  },
  {
   "cell_type": "code",
   "execution_count": null,
   "metadata": {},
   "outputs": [],
   "source": [
    "print(np.eye(3,3))"
   ]
  },
  {
   "cell_type": "markdown",
   "metadata": {},
   "source": [
    "* Crie uma matriz 3x3x3 com valores aleatórios"
   ]
  },
  {
   "cell_type": "code",
   "execution_count": null,
   "metadata": {},
   "outputs": [],
   "source": [
    "print(np.random.rand(3,3,3))"
   ]
  },
  {
   "cell_type": "markdown",
   "metadata": {},
   "source": [
    "* Crie uma matriz 10x10 com valores aleatórios e encontre os valores mínimo e máximo"
   ]
  },
  {
   "cell_type": "code",
   "execution_count": null,
   "metadata": {},
   "outputs": [],
   "source": [
    "a = np.random.rand(10,10)\n",
    "print(\"matriz: \\n \\n\", a, \"\\n \\n\")\n",
    "print(\"valor minimo\", np.min(a))\n",
    "print(\"valor maximo:\" , np.max(a))"
   ]
  },
  {
   "cell_type": "markdown",
   "metadata": {},
   "source": [
    "* Crie um vetor aleatório de tamanho 30 e encontre o valor médio"
   ]
  },
  {
   "cell_type": "code",
   "execution_count": null,
   "metadata": {},
   "outputs": [],
   "source": [
    "a = np.random.rand(30)\n",
    "print(\"vetor: \\n \\n\", a, \"\\n \\n\")\n",
    "print(\"media: \\n \\n\", np.mean(a), \"\\n \\n\")\n"
   ]
  },
  {
   "cell_type": "markdown",
   "metadata": {},
   "source": [
    "* Crie uma matriz 2D com 1 na borda e 0 dentro"
   ]
  },
  {
   "cell_type": "code",
   "execution_count": 47,
   "metadata": {},
   "outputs": [
    {
     "name": "stdout",
     "output_type": "stream",
     "text": [
      "[[[1 1 1 1]\n",
      "  [1 0 0 1]\n",
      "  [1 1 1 1]]\n",
      "\n",
      " [[1 1 1 1]\n",
      "  [1 0 0 1]\n",
      "  [1 1 1 1]]]\n"
     ]
    }
   ],
   "source": [
    "a = np.ones((2,3,4),dtype = np.int16)\n",
    "\n",
    "\n",
    "a[0][1][1] = 0\n",
    "a[0][1][2] = 0\n",
    "a[1][1][1] = 0\n",
    "a[1][1][2] = 0\n",
    "print(a)"
   ]
  },
  {
   "cell_type": "markdown",
   "metadata": {},
   "source": [
    "* Crie uma matriz 5x5 com valores 1,2,3,4 logo abaixo da diagonal"
   ]
  },
  {
   "cell_type": "code",
   "execution_count": 51,
   "metadata": {},
   "outputs": [
    {
     "name": "stdout",
     "output_type": "stream",
     "text": [
      "[[0 0 0 0 0]\n",
      " [1 0 0 0 0]\n",
      " [0 2 0 0 0]\n",
      " [0 0 3 0 0]\n",
      " [0 0 0 4 0]]\n"
     ]
    }
   ],
   "source": [
    "\n",
    "\n",
    "a = np.arange(5)\n",
    "\n",
    "n = np.diag(np.arange(1,5),k = -1)  #k = 1 altera a diagonal secundaria debaixo\n",
    "\n",
    "print(n)"
   ]
  },
  {
   "cell_type": "markdown",
   "metadata": {},
   "source": [
    "* Crie uma matriz estruturada representando uma posição (x, y) e uma cor (r, g, b)"
   ]
  },
  {
   "cell_type": "code",
   "execution_count": 36,
   "metadata": {},
   "outputs": [
    {
     "name": "stdout",
     "output_type": "stream",
     "text": [
      "[[-3.   0.   3.   0. ]\n",
      " [ 0.5  2.5  1.5 -4.5]\n",
      " [ 1.  -1.   1.  -1. ]]\n"
     ]
    }
   ],
   "source": [
    "n = np.array(0,[('posicao', [ ('x', float), ('y', float)]),\n",
    "                ('cor',     [ ('r', float), ('g', float), ('b', float)])])\n",
    "\n",
    "\n",
    "# Subtrair a média de cada linha de uma matriz\n",
    "n = np.random.randint(0,10,(3,4))\n",
    "\n",
    "'''Formato n.mean():\n",
    "(eixo do array, keepdims=True), onde keepdims=True informa que o resultado\n",
    "sera salvo num vetor (linha ou coluna) de forma que permita operacoes posteriores\n",
    " '''\n",
    "\n",
    "m = n - n.mean(axis = 1, keepdims = True)\n",
    "print(m)\n"
   ]
  },
  {
   "cell_type": "markdown",
   "metadata": {},
   "source": [
    "* Como encontrar o valor mais frequente em uma matriz?\n"
   ]
  },
  {
   "cell_type": "code",
   "execution_count": 78,
   "metadata": {},
   "outputs": [
    {
     "name": "stdout",
     "output_type": "stream",
     "text": [
      "[2 1 1 1]\n",
      "Valor mais frequente: 1\n"
     ]
    }
   ],
   "source": [
    "#funcao bitcount conta a ocorrencia de cada elemento e retorna em vetor. \n",
    "#Funcao argmax retorna o maior valor com maior frequencia dentro de bitcount\n",
    "\n",
    "n = np.random.randint(1,4,4)\n",
    "print(n)\n",
    "print(\"Valor mais frequente:\", np.bincount(n).argmax())"
   ]
  },
  {
   "cell_type": "markdown",
   "metadata": {},
   "source": [
    "* crie uma matriz com valores aletaórios e salve para um arquivo"
   ]
  },
  {
   "cell_type": "code",
   "execution_count": 112,
   "metadata": {},
   "outputs": [
    {
     "name": "stdout",
     "output_type": "stream",
     "text": [
      "(101,)\n"
     ]
    }
   ],
   "source": [
    "#criando a matriz com valores inteiros aleatorios\n",
    "n = np.random.randint(1,101,101) \n",
    "\n",
    "#para conferir o tamanho da matriz\n",
    "print(n.shape)\n",
    "\n",
    "#para salvar a matriz no formato txt\n",
    "np.savetxt(\"n.txt\",n)  \n",
    "\n",
    "#para ler o arquivo salvo em txt\n",
    "np.genfromtxt(\"n.txt\")\n",
    "\n",
    "#salvando o valor em um arquivo py\n",
    "np.save(\"arquivo\", n)\n",
    "\n"
   ]
  }
 ],
 "metadata": {
  "kernelspec": {
   "display_name": "Python 3",
   "language": "python",
   "name": "python3"
  },
  "language_info": {
   "codemirror_mode": {
    "name": "ipython",
    "version": 3
   },
   "file_extension": ".py",
   "mimetype": "text/x-python",
   "name": "python",
   "nbconvert_exporter": "python",
   "pygments_lexer": "ipython3",
   "version": "3.7.3"
  }
 },
 "nbformat": 4,
 "nbformat_minor": 2
}
